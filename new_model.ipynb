{
  "cells": [
    {
      "cell_type": "code",
      "source": [
        "pip install opencv-python"
      ],
      "outputs": [
        {
          "output_type": "display_data",
          "data": {
            "application/vnd.livy.statement-meta+json": {
              "spark_pool": "d424dced-cac4-4c8b-ad5c-754a4b7d8773",
              "session_id": "32",
              "statement_id": 8,
              "statement_ids": [
                8
              ],
              "state": "finished",
              "livy_statement_state": "available",
              "queued_time": "2024-05-07T03:40:54.2216268Z",
              "session_start_time": null,
              "execution_start_time": "2024-05-07T03:40:54.3327267Z",
              "execution_finish_time": "2024-05-07T03:41:11.8195005Z",
              "spark_jobs": {
                "numbers": {
                  "SUCCEEDED": 0,
                  "FAILED": 0,
                  "UNKNOWN": 0,
                  "RUNNING": 0
                },
                "jobs": [],
                "limit": 20,
                "rule": "ALL_DESC"
              },
              "parent_msg_id": "dfd3e51b-3e81-4e26-b40a-ae0f3bb3bf27"
            },
            "text/plain": "StatementMeta(d424dced-cac4-4c8b-ad5c-754a4b7d8773, 32, 8, Finished, Available)"
          },
          "metadata": {}
        },
        {
          "output_type": "stream",
          "name": "stdout",
          "text": "Collecting opencv-python\n  Downloading opencv_python-4.9.0.80-cp37-abi3-manylinux_2_17_x86_64.manylinux2014_x86_64.whl (62.2 MB)\n\u001b[K     |████████████████████████████████| 62.2 MB 19.2 MB/s eta 0:00:01\n\u001b[?25hRequirement already satisfied: numpy>=1.17.3 in /home/trusted-service-user/cluster-env/env/lib/python3.8/site-packages (from opencv-python) (1.19.4)\nInstalling collected packages: opencv-python\nSuccessfully installed opencv-python-4.9.0.80\nNote: you may need to restart the kernel to use updated packages.\n"
        }
      ],
      "execution_count": 3,
      "metadata": {
        "jupyter": {
          "source_hidden": false,
          "outputs_hidden": false
        },
        "nteract": {
          "transient": {
            "deleting": false
          }
        },
        "gather": {
          "logged": 1715053275053
        }
      }
    },
    {
      "cell_type": "code",
      "source": [
        "import os\n",
        "import cv2\n",
        "import numpy as np\n",
        "import tensorflow as tf\n",
        "import matplotlib.pyplot as plt\n",
        "from tensorflow import keras"
      ],
      "outputs": [
        {
          "output_type": "display_data",
          "data": {
            "application/vnd.livy.statement-meta+json": {
              "spark_pool": "d424dced-cac4-4c8b-ad5c-754a4b7d8773",
              "session_id": "32",
              "statement_id": 9,
              "statement_ids": [
                9
              ],
              "state": "finished",
              "livy_statement_state": "available",
              "queued_time": "2024-05-07T03:41:34.2278828Z",
              "session_start_time": null,
              "execution_start_time": "2024-05-07T03:41:34.3306604Z",
              "execution_finish_time": "2024-05-07T03:42:03.8256493Z",
              "spark_jobs": {
                "numbers": {
                  "SUCCEEDED": 0,
                  "FAILED": 0,
                  "UNKNOWN": 0,
                  "RUNNING": 0
                },
                "jobs": [],
                "limit": 20,
                "rule": "ALL_DESC"
              },
              "parent_msg_id": "a097ad37-fd65-4b0b-86de-1233e9280b48"
            },
            "text/plain": "StatementMeta(d424dced-cac4-4c8b-ad5c-754a4b7d8773, 32, 9, Finished, Available)"
          },
          "metadata": {}
        }
      ],
      "execution_count": 4,
      "metadata": {
        "gather": {
          "logged": 1715053326984
        }
      }
    },
    {
      "cell_type": "code",
      "source": [
        "mnist = tf.keras.datasets.mnist\n",
        "(X_train, y_train), (X_test, y_test) = mnist.load_data()"
      ],
      "outputs": [
        {
          "output_type": "display_data",
          "data": {
            "application/vnd.livy.statement-meta+json": {
              "spark_pool": "d424dced-cac4-4c8b-ad5c-754a4b7d8773",
              "session_id": "32",
              "statement_id": 12,
              "statement_ids": [
                12
              ],
              "state": "finished",
              "livy_statement_state": "available",
              "queued_time": "2024-05-07T03:48:56.0642877Z",
              "session_start_time": null,
              "execution_start_time": "2024-05-07T03:48:56.1654174Z",
              "execution_finish_time": "2024-05-07T03:48:56.9894486Z",
              "spark_jobs": {
                "numbers": {
                  "SUCCEEDED": 0,
                  "FAILED": 0,
                  "UNKNOWN": 0,
                  "RUNNING": 0
                },
                "jobs": [],
                "limit": 20,
                "rule": "ALL_DESC"
              },
              "parent_msg_id": "7198c575-a63d-4b26-832a-1e6a3c7c2d4f"
            },
            "text/plain": "StatementMeta(d424dced-cac4-4c8b-ad5c-754a4b7d8773, 32, 12, Finished, Available)"
          },
          "metadata": {}
        },
        {
          "output_type": "stream",
          "name": "stdout",
          "text": "Downloading data from https://storage.googleapis.com/tensorflow/tf-keras-datasets/mnist.npz\n\r    8192/11490434 [..............................] - ETA: 0s\b\b\b\b\b\b\b\b\b\b\b\b\b\b\b\b\b\b\b\b\b\b\b\b\b\b\b\b\b\b\b\b\b\b\b\b\b\b\b\b\b\b\b\b\b\b\b\b\b\b\b\b\b\b\b\b\b\b\b\b\r 9551872/11490434 [=======================>......] - ETA: 0s\b\b\b\b\b\b\b\b\b\b\b\b\b\b\b\b\b\b\b\b\b\b\b\b\b\b\b\b\b\b\b\b\b\b\b\b\b\b\b\b\b\b\b\b\b\b\b\b\b\b\b\b\b\b\b\b\b\b\b\b\r11493376/11490434 [==============================] - 0s 0us/step\n"
        }
      ],
      "execution_count": 7,
      "metadata": {
        "jupyter": {
          "source_hidden": false,
          "outputs_hidden": false
        },
        "nteract": {
          "transient": {
            "deleting": false
          }
        },
        "gather": {
          "logged": 1715053740100
        }
      }
    },
    {
      "cell_type": "code",
      "source": [
        "new_model = keras.models.load_model(\"Users/vkoduru/Data Mining Project/digit_predict.h5\")"
      ],
      "outputs": [
        {
          "output_type": "display_data",
          "data": {
            "application/vnd.livy.statement-meta+json": {
              "spark_pool": "d424dced-cac4-4c8b-ad5c-754a4b7d8773",
              "session_id": "32",
              "statement_id": 10,
              "statement_ids": [
                10
              ],
              "state": "finished",
              "livy_statement_state": "available",
              "queued_time": "2024-05-07T03:42:21.2719196Z",
              "session_start_time": null,
              "execution_start_time": "2024-05-07T03:42:21.3792655Z",
              "execution_finish_time": "2024-05-07T03:42:25.4558814Z",
              "spark_jobs": {
                "numbers": {
                  "SUCCEEDED": 0,
                  "FAILED": 0,
                  "UNKNOWN": 0,
                  "RUNNING": 0
                },
                "jobs": [],
                "limit": 20,
                "rule": "ALL_DESC"
              },
              "parent_msg_id": "3d16bec6-29f8-49d2-bf32-274cacb76b82"
            },
            "text/plain": "StatementMeta(d424dced-cac4-4c8b-ad5c-754a4b7d8773, 32, 10, Finished, Available)"
          },
          "metadata": {}
        },
        {
          "output_type": "stream",
          "name": "stderr",
          "text": "2024-05-07 03:42:22.194995: I tensorflow/core/platform/cpu_feature_guard.cc:142] This TensorFlow binary is optimized with oneAPI Deep Neural Network Library (oneDNN) to use the following CPU instructions in performance-critical operations:  SSE4.1 SSE4.2 AVX AVX2 AVX512F FMA\nTo enable them in other operations, rebuild TensorFlow with the appropriate compiler flags.\n"
        }
      ],
      "execution_count": 5,
      "metadata": {
        "jupyter": {
          "source_hidden": false,
          "outputs_hidden": false
        },
        "nteract": {
          "transient": {
            "deleting": false
          }
        },
        "gather": {
          "logged": 1715053348569
        }
      }
    },
    {
      "cell_type": "code",
      "source": [
        "import seaborn as sn"
      ],
      "outputs": [
        {
          "output_type": "display_data",
          "data": {
            "application/vnd.livy.statement-meta+json": {
              "spark_pool": "d424dced-cac4-4c8b-ad5c-754a4b7d8773",
              "session_id": "32",
              "statement_id": 14,
              "statement_ids": [
                14
              ],
              "state": "finished",
              "livy_statement_state": "available",
              "queued_time": "2024-05-07T03:49:24.7820262Z",
              "session_start_time": null,
              "execution_start_time": "2024-05-07T03:49:24.8806629Z",
              "execution_finish_time": "2024-05-07T03:49:28.3917635Z",
              "spark_jobs": {
                "numbers": {
                  "SUCCEEDED": 0,
                  "FAILED": 0,
                  "UNKNOWN": 0,
                  "RUNNING": 0
                },
                "jobs": [],
                "limit": 20,
                "rule": "ALL_DESC"
              },
              "parent_msg_id": "0639b73c-bd16-421a-8fd2-99759fa132ba"
            },
            "text/plain": "StatementMeta(d424dced-cac4-4c8b-ad5c-754a4b7d8773, 32, 14, Finished, Available)"
          },
          "metadata": {}
        }
      ],
      "execution_count": 9,
      "metadata": {
        "jupyter": {
          "source_hidden": false,
          "outputs_hidden": false
        },
        "nteract": {
          "transient": {
            "deleting": false
          }
        },
        "gather": {
          "logged": 1715053771596
        }
      }
    },
    {
      "cell_type": "code",
      "source": [
        "y_predicted = new_model.predict(X_test)\n",
        "y_predicted_labels = [np.argmax(i) for i in y_predicted]\n",
        "cm = tf.math.confusion_matrix(labels=y_test,predictions=y_predicted_labels)\n",
        "\n",
        "plt.figure(figsize = (10,7))\n",
        "sn.heatmap(cm, annot=True, fmt='d')\n",
        "plt.xlabel('Predicted')\n",
        "plt.ylabel('Truth')"
      ],
      "outputs": [
        {
          "output_type": "display_data",
          "data": {
            "application/vnd.livy.statement-meta+json": {
              "spark_pool": "d424dced-cac4-4c8b-ad5c-754a4b7d8773",
              "session_id": "32",
              "statement_id": 15,
              "statement_ids": [
                15
              ],
              "state": "finished",
              "livy_statement_state": "available",
              "queued_time": "2024-05-07T03:49:30.3136151Z",
              "session_start_time": null,
              "execution_start_time": "2024-05-07T03:49:30.4181707Z",
              "execution_finish_time": "2024-05-07T03:49:33.8820582Z",
              "spark_jobs": {
                "numbers": {
                  "SUCCEEDED": 0,
                  "FAILED": 0,
                  "UNKNOWN": 0,
                  "RUNNING": 0
                },
                "jobs": [],
                "limit": 20,
                "rule": "ALL_DESC"
              },
              "parent_msg_id": "375ad119-0842-4dbd-961a-595afcac3ea9"
            },
            "text/plain": "StatementMeta(d424dced-cac4-4c8b-ad5c-754a4b7d8773, 32, 15, Finished, Available)"
          },
          "metadata": {}
        },
        {
          "output_type": "execute_result",
          "execution_count": 29,
          "data": {
            "text/plain": "Text(69.0, 0.5, 'Truth')"
          },
          "metadata": {}
        },
        {
          "output_type": "display_data",
          "data": {
            "text/plain": "<Figure size 720x504 with 2 Axes>",
            "image/png": "[encoded data removed]"
          },
          "metadata": {
            "needs_background": "light"
          }
        }
      ],
      "execution_count": 10,
      "metadata": {
        "jupyter": {
          "source_hidden": false,
          "outputs_hidden": false
        },
        "nteract": {
          "transient": {
            "deleting": false
          }
        },
        "gather": {
          "logged": 1715053777097
        }
      }
    },
    {
      "cell_type": "code",
      "source": [
        "image_number = 1\n",
        "while os.path.isfile('Users/vkoduru/digits/digit{}.png'.format(image_number)):\n",
        "    try:\n",
        "        img = cv2.imread('Users/vkoduru/digits/digit{}.png'.format(image_number))[:,:,0]\n",
        "        img = np.invert(np.array([img]))\n",
        "        prediction = new_model.predict(img)\n",
        "        print(\"The number is probably a {}\".format(np.argmax(prediction)))\n",
        "        plt.imshow(img[0], cmap=plt.cm.binary)\n",
        "        plt.show()\n",
        "        image_number += 1\n",
        "    except:\n",
        "        print(\"Error reading image! Proceeding with next image...\")\n",
        "        image_number += 1"
      ],
      "outputs": [
        {
          "output_type": "display_data",
          "data": {
            "application/vnd.livy.statement-meta+json": {
              "spark_pool": "d424dced-cac4-4c8b-ad5c-754a4b7d8773",
              "session_id": "32",
              "statement_id": 17,
              "statement_ids": [
                17
              ],
              "state": "finished",
              "livy_statement_state": "available",
              "queued_time": "2024-05-07T03:50:08.3779699Z",
              "session_start_time": null,
              "execution_start_time": "2024-05-07T03:50:08.4746367Z",
              "execution_finish_time": "2024-05-07T03:50:11.7679214Z",
              "spark_jobs": {
                "numbers": {
                  "SUCCEEDED": 0,
                  "FAILED": 0,
                  "UNKNOWN": 0,
                  "RUNNING": 0
                },
                "jobs": [],
                "limit": 20,
                "rule": "ALL_DESC"
              },
              "parent_msg_id": "9c14506d-fa31-4fd8-a059-4ea88b2d6e47"
            },
            "text/plain": "StatementMeta(d424dced-cac4-4c8b-ad5c-754a4b7d8773, 32, 17, Finished, Available)"
          },
          "metadata": {}
        },
        {
          "output_type": "stream",
          "name": "stdout",
          "text": "The number is probably a 1\n"
        },
        {
          "output_type": "display_data",
          "data": {
            "text/plain": "<Figure size 432x288 with 1 Axes>",
            "image/png": "[encoded data removed]"
          },
          "metadata": {
            "needs_background": "light"
          }
        },
        {
          "output_type": "stream",
          "name": "stdout",
          "text": "The number is probably a 2\n"
        },
        {
          "output_type": "display_data",
          "data": {
            "text/plain": "<Figure size 432x288 with 1 Axes>",
            "image/png": "[encoded data removed]"
          },
          "metadata": {
            "needs_background": "light"
          }
        },
        {
          "output_type": "stream",
          "name": "stdout",
          "text": "The number is probably a 3\n"
        },
        {
          "output_type": "display_data",
          "data": {
            "text/plain": "<Figure size 432x288 with 1 Axes>",
            "image/png": "[encoded data removed]"
          },
          "metadata": {
            "needs_background": "light"
          }
        },
        {
          "output_type": "stream",
          "name": "stdout",
          "text": "The number is probably a 4\n"
        },
        {
          "output_type": "display_data",
          "data": {
            "text/plain": "<Figure size 432x288 with 1 Axes>",
            "image/png": "[encoded data removed]"
          },
          "metadata": {
            "needs_background": "light"
          }
        },
        {
          "output_type": "stream",
          "name": "stdout",
          "text": "The number is probably a 5\n"
        },
        {
          "output_type": "display_data",
          "data": {
            "text/plain": "<Figure size 432x288 with 1 Axes>",
            "image/png": "[encoded data removed]"
          },
          "metadata": {
            "needs_background": "light"
          }
        },
        {
          "output_type": "stream",
          "name": "stdout",
          "text": "The number is probably a 6\n"
        },
        {
          "output_type": "display_data",
          "data": {
            "text/plain": "<Figure size 432x288 with 1 Axes>",
            "image/png": "[encoded data removed]"
          },
          "metadata": {
            "needs_background": "light"
          }
        },
        {
          "output_type": "stream",
          "name": "stdout",
          "text": "The number is probably a 7\n"
        },
        {
          "output_type": "display_data",
          "data": {
            "text/plain": "<Figure size 432x288 with 1 Axes>",
            "image/png": "[encoded data removed]"
          },
          "metadata": {
            "needs_background": "light"
          }
        },
        {
          "output_type": "stream",
          "name": "stdout",
          "text": "The number is probably a 8\n"
        },
        {
          "output_type": "display_data",
          "data": {
            "text/plain": "<Figure size 432x288 with 1 Axes>",
            "image/png": "[encoded data removed]"
          },
          "metadata": {
            "needs_background": "light"
          }
        },
        {
          "output_type": "stream",
          "name": "stdout",
          "text": "The number is probably a 1\n"
        },
        {
          "output_type": "display_data",
          "data": {
            "text/plain": "<Figure size 432x288 with 1 Axes>",
            "image/png": "[encoded data removed]"
          },
          "metadata": {
            "needs_background": "light"
          }
        },
        {
          "output_type": "stream",
          "name": "stdout",
          "text": "The number is probably a 0\n"
        },
        {
          "output_type": "display_data",
          "data": {
            "text/plain": "<Figure size 432x288 with 1 Axes>",
            "image/png": "[encoded data removed]"
          },
          "metadata": {
            "needs_background": "light"
          }
        },
        {
          "output_type": "stream",
          "name": "stdout",
          "text": "The number is probably a 6\n"
        },
        {
          "output_type": "display_data",
          "data": {
            "text/plain": "<Figure size 432x288 with 1 Axes>",
            "image/png": "[encoded data removed]"
          },
          "metadata": {
            "needs_background": "light"
          }
        }
      ],
      "execution_count": 12,
      "metadata": {
        "jupyter": {
          "source_hidden": false,
          "outputs_hidden": false
        },
        "nteract": {
          "transient": {
            "deleting": false
          }
        },
        "gather": {
          "logged": 1715053815122
        }
      }
    },
    {
      "cell_type": "code",
      "source": [],
      "outputs": [],
      "execution_count": null,
      "metadata": {
        "jupyter": {
          "source_hidden": false,
          "outputs_hidden": false
        },
        "nteract": {
          "transient": {
            "deleting": false
          }
        }
      }
    }
  ],
  "metadata": {
    "kernelspec": {
      "name": "synapse_pyspark",
      "language": "Python",
      "display_name": "Synapse PySpark"
    },
    "language_info": {
      "name": "python",
      "version": "3.8.0",
      "mimetype": "text/x-python",
      "file_extension": ".py",
      "pygments_lexer": "ipython",
      "codemirror_mode": "ipython",
      "nbconvert_exporter": "python"
    },
    "microsoft": {
      "ms_spell_check": {
        "ms_spell_check_language": "en"
      },
      "host": {
        "AzureML": {
          "notebookHasBeenCompleted": true
        }
      }
    },
    "kernel_info": {
      "name": "synapse_pyspark"
    },
    "nteract": {
      "version": "nteract-front-end@1.0.0"
    }
  },
  "nbformat": 4,
  "nbformat_minor": 2
}