{
  "cells": [
    {
      "cell_type": "code",
      "source": [
        "pip install opencv-python"
      ],
      "outputs": [
        {
          "output_type": "display_data",
          "data": {
            "application/vnd.livy.statement-meta+json": {
              "spark_pool": "d424dced-cac4-4c8b-ad5c-754a4b7d8773",
              "session_id": "35",
              "statement_id": 6,
              "statement_ids": [
                6
              ],
              "state": "finished",
              "livy_statement_state": "available",
              "queued_time": "2024-05-07T14:50:17.1250575Z",
              "session_start_time": "2024-05-07T14:50:17.1747774Z",
              "execution_start_time": "2024-05-07T14:54:43.0438518Z",
              "execution_finish_time": "2024-05-07T14:55:08.966966Z",
              "spark_jobs": {
                "numbers": {
                  "RUNNING": 0,
                  "SUCCEEDED": 0,
                  "FAILED": 0,
                  "UNKNOWN": 0
                },
                "jobs": [],
                "limit": 20,
                "rule": "ALL_DESC"
              },
              "parent_msg_id": "d3904731-ba96-4275-8396-3c8fc8591ece"
            },
            "text/plain": "StatementMeta(d424dced-cac4-4c8b-ad5c-754a4b7d8773, 35, 6, Finished, Available)"
          },
          "metadata": {}
        },
        {
          "output_type": "stream",
          "name": "stdout",
          "text": "Collecting opencv-python\n  Downloading opencv_python-4.9.0.80-cp37-abi3-manylinux_2_17_x86_64.manylinux2014_x86_64.whl (62.2 MB)\n\u001b[K     |████████████████████████████████| 62.2 MB 50 kB/s s eta 0:00:01\n\u001b[?25hRequirement already satisfied: numpy>=1.17.3 in /home/trusted-service-user/cluster-env/env/lib/python3.8/site-packages (from opencv-python) (1.19.4)\nInstalling collected packages: opencv-python\nSuccessfully installed opencv-python-4.9.0.80\nNote: you may need to restart the kernel to use updated packages.\n"
        }
      ],
      "execution_count": 1,
      "metadata": {
        "jupyter": {
          "source_hidden": false,
          "outputs_hidden": false
        },
        "nteract": {
          "transient": {
            "deleting": false
          }
        },
        "gather": {
          "logged": 1715093709161
        }
      },
      "id": "6e75968b-5fe2-4cdb-a010-ecdea406e70c"
    },
    {
      "cell_type": "code",
      "source": [
        "import os\n",
        "import cv2\n",
        "import numpy as np\n",
        "import tensorflow as tf\n",
        "import matplotlib.pyplot as plt"
      ],
      "outputs": [
        {
          "output_type": "display_data",
          "data": {
            "application/vnd.livy.statement-meta+json": {
              "spark_pool": "d424dced-cac4-4c8b-ad5c-754a4b7d8773",
              "session_id": "35",
              "statement_id": 7,
              "statement_ids": [
                7
              ],
              "state": "finished",
              "livy_statement_state": "available",
              "queued_time": "2024-05-07T14:50:17.1261661Z",
              "session_start_time": null,
              "execution_start_time": "2024-05-07T14:55:09.0671705Z",
              "execution_finish_time": "2024-05-07T14:55:57.0232868Z",
              "spark_jobs": {
                "numbers": {
                  "RUNNING": 0,
                  "SUCCEEDED": 0,
                  "FAILED": 0,
                  "UNKNOWN": 0
                },
                "jobs": [],
                "limit": 20,
                "rule": "ALL_DESC"
              },
              "parent_msg_id": "726103bf-a862-454d-9ee3-2c2f62fa84d5"
            },
            "text/plain": "StatementMeta(d424dced-cac4-4c8b-ad5c-754a4b7d8773, 35, 7, Finished, Available)"
          },
          "metadata": {}
        }
      ],
      "execution_count": 2,
      "metadata": {
        "gather": {
          "logged": 1715093757214
        }
      },
      "id": "8f51efe4"
    },
    {
      "cell_type": "code",
      "source": [
        "mnist = tf.keras.datasets.mnist\n",
        "(X_train, y_train), (X_test, y_test) = mnist.load_data()\n",
        "\n"
      ],
      "outputs": [
        {
          "output_type": "display_data",
          "data": {
            "application/vnd.livy.statement-meta+json": {
              "spark_pool": "d424dced-cac4-4c8b-ad5c-754a4b7d8773",
              "session_id": "35",
              "statement_id": 8,
              "statement_ids": [
                8
              ],
              "state": "finished",
              "livy_statement_state": "available",
              "queued_time": "2024-05-07T14:50:17.1336191Z",
              "session_start_time": null,
              "execution_start_time": "2024-05-07T14:55:57.1324596Z",
              "execution_finish_time": "2024-05-07T14:55:57.9565461Z",
              "spark_jobs": {
                "numbers": {
                  "RUNNING": 0,
                  "SUCCEEDED": 0,
                  "FAILED": 0,
                  "UNKNOWN": 0
                },
                "jobs": [],
                "limit": 20,
                "rule": "ALL_DESC"
              },
              "parent_msg_id": "ca596929-d9c9-4d21-ac0f-f01f2de53340"
            },
            "text/plain": "StatementMeta(d424dced-cac4-4c8b-ad5c-754a4b7d8773, 35, 8, Finished, Available)"
          },
          "metadata": {}
        },
        {
          "output_type": "stream",
          "name": "stdout",
          "text": "Downloading data from https://storage.googleapis.com/tensorflow/tf-keras-datasets/mnist.npz\n\r    8192/11490434 [..............................] - ETA: 0s\b\b\b\b\b\b\b\b\b\b\b\b\b\b\b\b\b\b\b\b\b\b\b\b\b\b\b\b\b\b\b\b\b\b\b\b\b\b\b\b\b\b\b\b\b\b\b\b\b\b\b\b\b\b\b\b\b\b\b\b\r 8814592/11490434 [======================>.......] - ETA: 0s\b\b\b\b\b\b\b\b\b\b\b\b\b\b\b\b\b\b\b\b\b\b\b\b\b\b\b\b\b\b\b\b\b\b\b\b\b\b\b\b\b\b\b\b\b\b\b\b\b\b\b\b\b\b\b\b\b\b\b\b\r11493376/11490434 [==============================] - 0s 0us/step\n"
        }
      ],
      "execution_count": 3,
      "metadata": {
        "gather": {
          "logged": 1715093758048
        }
      },
      "id": "1d903be5"
    },
    {
      "cell_type": "code",
      "source": [
        "X_train.shape"
      ],
      "outputs": [
        {
          "output_type": "display_data",
          "data": {
            "application/vnd.livy.statement-meta+json": {
              "spark_pool": "d424dced-cac4-4c8b-ad5c-754a4b7d8773",
              "session_id": "35",
              "statement_id": 9,
              "statement_ids": [
                9
              ],
              "state": "finished",
              "livy_statement_state": "available",
              "queued_time": "2024-05-07T14:50:17.1345563Z",
              "session_start_time": null,
              "execution_start_time": "2024-05-07T14:55:58.0649553Z",
              "execution_finish_time": "2024-05-07T14:55:58.3787688Z",
              "spark_jobs": {
                "numbers": {
                  "RUNNING": 0,
                  "SUCCEEDED": 0,
                  "FAILED": 0,
                  "UNKNOWN": 0
                },
                "jobs": [],
                "limit": 20,
                "rule": "ALL_DESC"
              },
              "parent_msg_id": "edff8e29-29d3-41d3-bc21-9313e724ac29"
            },
            "text/plain": "StatementMeta(d424dced-cac4-4c8b-ad5c-754a4b7d8773, 35, 9, Finished, Available)"
          },
          "metadata": {}
        },
        {
          "output_type": "execute_result",
          "execution_count": 17,
          "data": {
            "text/plain": "(60000, 28, 28)"
          },
          "metadata": {}
        }
      ],
      "execution_count": 4,
      "metadata": {
        "jupyter": {
          "source_hidden": false,
          "outputs_hidden": false
        },
        "nteract": {
          "transient": {
            "deleting": false
          }
        },
        "gather": {
          "logged": 1715093758459
        }
      },
      "id": "30327575-403d-48b2-aea2-ce11fc73ec4f"
    },
    {
      "cell_type": "code",
      "source": [
        "y_train.shape"
      ],
      "outputs": [
        {
          "output_type": "display_data",
          "data": {
            "application/vnd.livy.statement-meta+json": {
              "spark_pool": "d424dced-cac4-4c8b-ad5c-754a4b7d8773",
              "session_id": "35",
              "statement_id": 10,
              "statement_ids": [
                10
              ],
              "state": "finished",
              "livy_statement_state": "available",
              "queued_time": "2024-05-07T14:50:17.1356332Z",
              "session_start_time": null,
              "execution_start_time": "2024-05-07T14:55:58.5171089Z",
              "execution_finish_time": "2024-05-07T14:55:58.826725Z",
              "spark_jobs": {
                "numbers": {
                  "RUNNING": 0,
                  "SUCCEEDED": 0,
                  "FAILED": 0,
                  "UNKNOWN": 0
                },
                "jobs": [],
                "limit": 20,
                "rule": "ALL_DESC"
              },
              "parent_msg_id": "812bac72-3bb9-44d7-ae8a-89f7afa3d813"
            },
            "text/plain": "StatementMeta(d424dced-cac4-4c8b-ad5c-754a4b7d8773, 35, 10, Finished, Available)"
          },
          "metadata": {}
        },
        {
          "output_type": "execute_result",
          "execution_count": 19,
          "data": {
            "text/plain": "(60000,)"
          },
          "metadata": {}
        }
      ],
      "execution_count": 5,
      "metadata": {
        "jupyter": {
          "source_hidden": false,
          "outputs_hidden": false
        },
        "nteract": {
          "transient": {
            "deleting": false
          }
        },
        "gather": {
          "logged": 1715093758941
        }
      },
      "id": "838521d2-7601-441c-834a-d08621af1187"
    },
    {
      "cell_type": "code",
      "source": [
        "\n",
        "X_train = tf.keras.utils.normalize(X_train, axis=1)\n",
        "X_test = tf.keras.utils.normalize(X_test, axis=1)\n",
        "\n"
      ],
      "outputs": [
        {
          "output_type": "display_data",
          "data": {
            "application/vnd.livy.statement-meta+json": {
              "spark_pool": "d424dced-cac4-4c8b-ad5c-754a4b7d8773",
              "session_id": "35",
              "statement_id": 11,
              "statement_ids": [
                11
              ],
              "state": "finished",
              "livy_statement_state": "available",
              "queued_time": "2024-05-07T14:50:17.1369806Z",
              "session_start_time": null,
              "execution_start_time": "2024-05-07T14:55:58.9333339Z",
              "execution_finish_time": "2024-05-07T14:55:59.73824Z",
              "spark_jobs": {
                "numbers": {
                  "RUNNING": 0,
                  "SUCCEEDED": 0,
                  "FAILED": 0,
                  "UNKNOWN": 0
                },
                "jobs": [],
                "limit": 20,
                "rule": "ALL_DESC"
              },
              "parent_msg_id": "5fc6dd29-9347-4c6b-a563-fc6b6a104479"
            },
            "text/plain": "StatementMeta(d424dced-cac4-4c8b-ad5c-754a4b7d8773, 35, 11, Finished, Available)"
          },
          "metadata": {}
        }
      ],
      "execution_count": 6,
      "metadata": {
        "gather": {
          "logged": 1715093759834
        }
      },
      "id": "607bc605"
    },
    {
      "cell_type": "code",
      "source": [
        "model = tf.keras.models.Sequential()\n",
        "model.add(tf.keras.layers.Flatten())\n",
        "model.add(tf.keras.layers.Dense(units=256, activation=tf.nn.relu))\n",
        "model.add(tf.keras.layers.Dense(units=128, activation=tf.nn.relu))\n",
        "model.add(tf.keras.layers.Dense(units=64, activation=tf.nn.relu))\n",
        "model.add(tf.keras.layers.Dense(units=10, activation=tf.nn.softmax))\n",
        "\n",
        "model.compile(optimizer='adam', loss='sparse_categorical_crossentropy', metrics=['accuracy'])\n",
        "\n",
        "\n",
        "model.fit(X_train, y_train, epochs=10)"
      ],
      "outputs": [
        {
          "output_type": "display_data",
          "data": {
            "application/vnd.livy.statement-meta+json": {
              "spark_pool": "d424dced-cac4-4c8b-ad5c-754a4b7d8773",
              "session_id": "35",
              "statement_id": 12,
              "statement_ids": [
                12
              ],
              "state": "finished",
              "livy_statement_state": "available",
              "queued_time": "2024-05-07T14:50:17.138132Z",
              "session_start_time": null,
              "execution_start_time": "2024-05-07T14:55:59.8397447Z",
              "execution_finish_time": "2024-05-07T14:56:48.4794157Z",
              "spark_jobs": {
                "numbers": {
                  "RUNNING": 0,
                  "SUCCEEDED": 0,
                  "FAILED": 0,
                  "UNKNOWN": 0
                },
                "jobs": [],
                "limit": 20,
                "rule": "ALL_DESC"
              },
              "parent_msg_id": "180725dd-7d3d-4fd6-a1c8-1986d4da7900"
            },
            "text/plain": "StatementMeta(d424dced-cac4-4c8b-ad5c-754a4b7d8773, 35, 12, Finished, Available)"
          },
          "metadata": {}
        },
        {
          "output_type": "stream",
          "name": "stderr",
          "text": "2024-05-07 14:56:00.047795: I tensorflow/core/platform/cpu_feature_guard.cc:142] This TensorFlow binary is optimized with oneAPI Deep Neural Network Library (oneDNN) to use the following CPU instructions in performance-critical operations:  SSE4.1 SSE4.2 AVX AVX2 AVX512F FMA\nTo enable them in other operations, rebuild TensorFlow with the appropriate compiler flags.\n2024-05-07 14:56:01.591155: I tensorflow/compiler/mlir/mlir_graph_optimization_pass.cc:116] None of the MLIR optimization passes are enabled (registered 2)\n2024-05-07 14:56:01.712334: I tensorflow/core/platform/profile_utils/cpu_utils.cc:112] CPU Frequency: 2095175000 Hz\n"
        },
        {
          "output_type": "stream",
          "name": "stdout",
          "text": "Epoch 1/10\n1875/1875 [==============================] - 6s 2ms/step - loss: 0.4197 - accuracy: 0.8735\b\b\b\b\b\b\b\b\b\b\b\b\b\b\b\b\b\b\b\b\b\b\b\b\b\b\b\b\b\b\b\b\b\b\b\b\b\b\b\b\b\b\b\b\b\b\b\b\b\b\b\b\b\b\b\b\b\b\b\b\b\b\b\b\b\b\b\b\b\b\b\b\b\b\b\b\b\b\b\b\b\b\b\b\b\b\b\b\nEpoch 2/10\n1875/1875 [==============================] - 4s 2ms/step - loss: 0.0949 - accuracy: 0.9702\b\b\b\b\b\b\b\b\b\b\b\b\b\b\b\b\b\b\b\b\b\b\b\b\b\b\b\b\b\b\b\b\b\b\b\b\b\b\b\b\b\b\b\b\b\b\b\b\b\b\b\b\b\b\b\b\b\b\b\b\b\b\b\b\b\b\b\b\b\b\b\b\b\b\b\b\b\b\b\b\b\b\nEpoch 3/10\n1875/1875 [==============================] - 4s 2ms/step - loss: 0.0585 - accuracy: 0.9812\b\b\b\b\b\b\b\b\b\b\b\b\b\b\b\b\b\b\b\b\b\b\b\b\b\b\b\b\b\b\b\b\b\b\b\b\b\b\b\b\b\b\b\b\b\b\b\b\b\b\b\b\b\b\b\b\b\b\b\b\b\b\b\b\b\b\b\b\b\b\b\b\b\b\b\b\b\b\b\b\b\b\nEpoch 4/10\n1875/1875 [==============================] - 4s 2ms/step - loss: 0.0418 - accuracy: 0.9863\b\b\b\b\b\b\b\b\b\b\b\b\b\b\b\b\b\b\b\b\b\b\b\b\b\b\b\b\b\b\b\b\b\b\b\b\b\b\b\b\b\b\b\b\b\b\b\b\b\b\b\b\b\b\b\b\b\b\b\b\b\b\b\b\b\b\b\b\b\b\b\b\b\b\b\b\b\b\b\b\b\b\nEpoch 5/10\n1875/1875 [==============================] - 4s 2ms/step - loss: 0.0327 - accuracy: 0.9891\b\b\b\b\b\b\b\b\b\b\b\b\b\b\b\b\b\b\b\b\b\b\b\b\b\b\b\b\b\b\b\b\b\b\b\b\b\b\b\b\b\b\b\b\b\b\b\b\b\b\b\b\b\b\b\b\b\b\b\b\b\b\b\b\b\b\b\b\b\b\b\b\b\b\b\b\b\b\b\b\b\b\nEpoch 6/10\n1875/1875 [==============================] - 4s 2ms/step - loss: 0.0261 - accuracy: 0.9920\b\b\b\b\b\b\b\b\b\b\b\b\b\b\b\b\b\b\b\b\b\b\b\b\b\b\b\b\b\b\b\b\b\b\b\b\b\b\b\b\b\b\b\b\b\b\b\b\b\b\b\b\b\b\b\b\b\b\b\b\b\b\b\b\b\b\b\b\b\b\b\b\b\b\b\b\b\b\b\b\b\b\nEpoch 7/10\n1875/1875 [==============================] - 4s 2ms/step - loss: 0.0231 - accuracy: 0.9923\b\b\b\b\b\b\b\b\b\b\b\b\b\b\b\b\b\b\b\b\b\b\b\b\b\b\b\b\b\b\b\b\b\b\b\b\b\b\b\b\b\b\b\b\b\b\b\b\b\b\b\b\b\b\b\b\b\b\b\b\b\b\b\b\b\b\b\b\b\b\b\b\b\b\b\b\b\b\b\b\b\b\b\b\b\b\b\b\b\b\nEpoch 8/10\n1875/1875 [==============================] - 4s 2ms/step - loss: 0.0180 - accuracy: 0.9938\b\b\b\b\b\b\b\b\b\b\b\b\b\b\b\b\b\b\b\b\b\b\b\b\b\b\b\b\b\b\b\b\b\b\b\b\b\b\b\b\b\b\b\b\b\b\b\b\b\b\b\b\b\b\b\b\b\b\b\b\b\b\b\b\b\b\b\b\b\b\b\b\b\b\b\b\b\b\b\b\b\b\nEpoch 9/10\n1875/1875 [==============================] - 4s 2ms/step - loss: 0.0152 - accuracy: 0.9953\b\b\b\b\b\b\b\b\b\b\b\b\b\b\b\b\b\b\b\b\b\b\b\b\b\b\b\b\b\b\b\b\b\b\b\b\b\b\b\b\b\b\b\b\b\b\b\b\b\b\b\b\b\b\b\b\b\b\b\b\b\b\b\b\b\b\b\b\b\b\b\b\b\b\b\b\b\b\b\b\b\b\nEpoch 10/10\n1875/1875 [==============================] - 4s 2ms/step - loss: 0.0166 - accuracy: 0.9940\b\b\b\b\b\b\b\b\b\b\b\b\b\b\b\b\b\b\b\b\b\b\b\b\b\b\b\b\b\b\b\b\b\b\b\b\b\b\b\b\b\b\b\b\b\b\b\b\b\b\b\b\b\b\b\b\b\b\b\b\b\b\b\b\b\b\b\b\b\b\b\b\b\b\b\b\b\b\b\b\b\b\n"
        },
        {
          "output_type": "execute_result",
          "execution_count": 23,
          "data": {
            "text/plain": "<tensorflow.python.keras.callbacks.History at 0x7fe8fbe24b80>"
          },
          "metadata": {}
        }
      ],
      "execution_count": 7,
      "metadata": {
        "gather": {
          "logged": 1715093808595
        }
      },
      "id": "a2d58074"
    },
    {
      "cell_type": "code",
      "source": [
        "val_loss, val_acc = model.evaluate(X_test, y_test)\n",
        "print(val_loss)\n",
        "print(val_acc)"
      ],
      "outputs": [
        {
          "output_type": "display_data",
          "data": {
            "application/vnd.livy.statement-meta+json": {
              "spark_pool": "d424dced-cac4-4c8b-ad5c-754a4b7d8773",
              "session_id": "35",
              "statement_id": 13,
              "statement_ids": [
                13
              ],
              "state": "finished",
              "livy_statement_state": "available",
              "queued_time": "2024-05-07T14:50:17.1391306Z",
              "session_start_time": null,
              "execution_start_time": "2024-05-07T14:56:48.5817918Z",
              "execution_finish_time": "2024-05-07T14:56:50.0945719Z",
              "spark_jobs": {
                "numbers": {
                  "RUNNING": 0,
                  "SUCCEEDED": 0,
                  "FAILED": 0,
                  "UNKNOWN": 0
                },
                "jobs": [],
                "limit": 20,
                "rule": "ALL_DESC"
              },
              "parent_msg_id": "eb2b1a28-1a6d-412c-8b43-5eae0ff787e3"
            },
            "text/plain": "StatementMeta(d424dced-cac4-4c8b-ad5c-754a4b7d8773, 35, 13, Finished, Available)"
          },
          "metadata": {}
        },
        {
          "output_type": "stream",
          "name": "stdout",
          "text": "313/313 [==============================] - 1s 1ms/step - loss: 0.1043 - accuracy: 0.9771\b\b\b\b\b\b\b\b\b\b\b\b\b\b\b\b\b\b\b\b\b\b\b\b\b\b\b\b\b\b\b\b\b\b\b\b\b\b\b\b\b\b\b\b\b\b\b\b\b\b\b\b\b\b\b\b\b\b\b\b\b\b\b\b\b\b\b\b\b\b\b\b\b\b\b\b\b\b\b\b\b\b\n0.10433021187782288\n0.9771000146865845\n"
        }
      ],
      "execution_count": 8,
      "metadata": {
        "gather": {
          "logged": 1715093810184
        }
      },
      "id": "24277ddb"
    },
    {
      "cell_type": "code",
      "source": [
        "model.save(\"digit_predict.h5\")\n"
      ],
      "outputs": [
        {
          "output_type": "display_data",
          "data": {
            "application/vnd.livy.statement-meta+json": {
              "spark_pool": "d424dced-cac4-4c8b-ad5c-754a4b7d8773",
              "session_id": "35",
              "statement_id": 14,
              "statement_ids": [
                14
              ],
              "state": "finished",
              "livy_statement_state": "available",
              "queued_time": "2024-05-07T14:50:17.140441Z",
              "session_start_time": null,
              "execution_start_time": "2024-05-07T14:56:50.2267487Z",
              "execution_finish_time": "2024-05-07T14:56:51.7687889Z",
              "spark_jobs": {
                "numbers": {
                  "RUNNING": 0,
                  "SUCCEEDED": 0,
                  "FAILED": 0,
                  "UNKNOWN": 0
                },
                "jobs": [],
                "limit": 20,
                "rule": "ALL_DESC"
              },
              "parent_msg_id": "67167941-90cb-4e86-8a1e-d4811b980a83"
            },
            "text/plain": "StatementMeta(d424dced-cac4-4c8b-ad5c-754a4b7d8773, 35, 14, Finished, Available)"
          },
          "metadata": {}
        }
      ],
      "execution_count": 9,
      "metadata": {
        "jupyter": {
          "source_hidden": false,
          "outputs_hidden": false
        },
        "nteract": {
          "transient": {
            "deleting": false
          }
        },
        "gather": {
          "logged": 1715093811919
        }
      },
      "id": "afd5fea5-3b4c-485e-b7db-691fd864e133"
    },
    {
      "cell_type": "markdown",
      "source": [],
      "metadata": {
        "nteract": {
          "transient": {
            "deleting": false
          }
        }
      },
      "id": "276a215e-53b0-4e47-9221-59f28ec70da9"
    },
    {
      "cell_type": "code",
      "source": [
        "import seaborn as sn"
      ],
      "outputs": [
        {
          "output_type": "display_data",
          "data": {
            "application/vnd.livy.statement-meta+json": {
              "spark_pool": "d424dced-cac4-4c8b-ad5c-754a4b7d8773",
              "session_id": "35",
              "statement_id": 15,
              "statement_ids": [
                15
              ],
              "state": "finished",
              "livy_statement_state": "available",
              "queued_time": "2024-05-07T14:50:17.1422809Z",
              "session_start_time": null,
              "execution_start_time": "2024-05-07T14:56:51.8762399Z",
              "execution_finish_time": "2024-05-07T14:56:56.7197926Z",
              "spark_jobs": {
                "numbers": {
                  "RUNNING": 0,
                  "SUCCEEDED": 0,
                  "FAILED": 0,
                  "UNKNOWN": 0
                },
                "jobs": [],
                "limit": 20,
                "rule": "ALL_DESC"
              },
              "parent_msg_id": "068a2a57-9a49-4104-bbf4-d9ef371d736e"
            },
            "text/plain": "StatementMeta(d424dced-cac4-4c8b-ad5c-754a4b7d8773, 35, 15, Finished, Available)"
          },
          "metadata": {}
        }
      ],
      "execution_count": 10,
      "metadata": {
        "jupyter": {
          "source_hidden": false,
          "outputs_hidden": false
        },
        "nteract": {
          "transient": {
            "deleting": false
          }
        },
        "gather": {
          "logged": 1715093816778
        }
      },
      "id": "060fc841-0fa8-4265-a9ca-0918f1b4b8bd"
    },
    {
      "cell_type": "code",
      "source": [
        "y_predicted = model.predict(X_test)\n",
        "y_predicted_labels = [np.argmax(i) for i in y_predicted]\n",
        "cm = tf.math.confusion_matrix(labels=y_test,predictions=y_predicted_labels)\n",
        "\n",
        "plt.figure(figsize = (10,7))\n",
        "sn.heatmap(cm, annot=True, fmt='d')\n",
        "plt.xlabel('Predicted')\n",
        "plt.ylabel('Truth')"
      ],
      "outputs": [
        {
          "output_type": "display_data",
          "data": {
            "application/vnd.livy.statement-meta+json": {
              "spark_pool": "d424dced-cac4-4c8b-ad5c-754a4b7d8773",
              "session_id": "35",
              "statement_id": 16,
              "statement_ids": [
                16
              ],
              "state": "finished",
              "livy_statement_state": "available",
              "queued_time": "2024-05-07T14:50:17.1436607Z",
              "session_start_time": null,
              "execution_start_time": "2024-05-07T14:56:56.8380165Z",
              "execution_finish_time": "2024-05-07T14:57:01.7313232Z",
              "spark_jobs": {
                "numbers": {
                  "RUNNING": 0,
                  "SUCCEEDED": 0,
                  "FAILED": 0,
                  "UNKNOWN": 0
                },
                "jobs": [],
                "limit": 20,
                "rule": "ALL_DESC"
              },
              "parent_msg_id": "785e24b2-ab7b-4653-8222-2fcded14b3cf"
            },
            "text/plain": "StatementMeta(d424dced-cac4-4c8b-ad5c-754a4b7d8773, 35, 16, Finished, Available)"
          },
          "metadata": {}
        },
        {
          "output_type": "execute_result",
          "execution_count": 31,
          "data": {
            "text/plain": "Text(69.0, 0.5, 'Truth')"
          },
          "metadata": {}
        },
        {
          "output_type": "display_data",
          "data": {
            "text/plain": "<Figure size 720x504 with 2 Axes>",
            "image/png": "[encoded data removed]"
          },
          "metadata": {
            "needs_background": "light"
          }
        }
      ],
      "execution_count": 11,
      "metadata": {
        "jupyter": {
          "source_hidden": false,
          "outputs_hidden": false
        },
        "nteract": {
          "transient": {
            "deleting": false
          }
        },
        "gather": {
          "logged": 1715093821819
        }
      },
      "id": "7be9b80f-7abb-4174-9d4d-c62bcd2d60b1"
    },
    {
      "cell_type": "code",
      "source": [
        "image_number = 1\n",
        "while os.path.isfile('Users/vkoduru/digits/digit{}.png'.format(image_number)):\n",
        "    try:\n",
        "        img = cv2.imread('Users/vkoduru/digits/digit{}.png'.format(image_number))[:,:,0]\n",
        "        img = np.invert(np.array([img]))\n",
        "        prediction = model.predict(img)\n",
        "        print(\"The number is probably a {}\".format(np.argmax(prediction)))\n",
        "        plt.imshow(img[0], cmap=plt.cm.binary)\n",
        "        plt.show()\n",
        "        image_number += 1\n",
        "    except:\n",
        "        print(\"Error reading image! Proceeding with next image...\")\n",
        "        image_number += 1"
      ],
      "outputs": [
        {
          "output_type": "display_data",
          "data": {
            "application/vnd.livy.statement-meta+json": {
              "spark_pool": "d424dced-cac4-4c8b-ad5c-754a4b7d8773",
              "session_id": "35",
              "statement_id": 17,
              "statement_ids": [
                17
              ],
              "state": "finished",
              "livy_statement_state": "available",
              "queued_time": "2024-05-07T14:50:17.1456972Z",
              "session_start_time": null,
              "execution_start_time": "2024-05-07T14:57:01.8432302Z",
              "execution_finish_time": "2024-05-07T14:57:05.3839135Z",
              "spark_jobs": {
                "numbers": {
                  "RUNNING": 0,
                  "SUCCEEDED": 0,
                  "FAILED": 0,
                  "UNKNOWN": 0
                },
                "jobs": [],
                "limit": 20,
                "rule": "ALL_DESC"
              },
              "parent_msg_id": "0cf9b4e3-f5b9-4f4b-996b-13af2f720144"
            },
            "text/plain": "StatementMeta(d424dced-cac4-4c8b-ad5c-754a4b7d8773, 35, 17, Finished, Available)"
          },
          "metadata": {}
        },
        {
          "output_type": "stream",
          "name": "stdout",
          "text": "The number is probably a 1\n"
        },
        {
          "output_type": "display_data",
          "data": {
            "text/plain": "<Figure size 432x288 with 1 Axes>",
            "image/png": "[encoded data removed]"
          },
          "metadata": {
            "needs_background": "light"
          }
        },
        {
          "output_type": "stream",
          "name": "stdout",
          "text": "The number is probably a 2\n"
        },
        {
          "output_type": "display_data",
          "data": {
            "text/plain": "<Figure size 432x288 with 1 Axes>",
            "image/png": "[encoded data removed]"
          },
          "metadata": {
            "needs_background": "light"
          }
        },
        {
          "output_type": "stream",
          "name": "stdout",
          "text": "The number is probably a 3\n"
        },
        {
          "output_type": "display_data",
          "data": {
            "text/plain": "<Figure size 432x288 with 1 Axes>",
            "image/png": "[encoded data removed]"
          },
          "metadata": {
            "needs_background": "light"
          }
        },
        {
          "output_type": "stream",
          "name": "stdout",
          "text": "The number is probably a 4\n"
        },
        {
          "output_type": "display_data",
          "data": {
            "text/plain": "<Figure size 432x288 with 1 Axes>",
            "image/png": "[encoded data removed]"
          },
          "metadata": {
            "needs_background": "light"
          }
        },
        {
          "output_type": "stream",
          "name": "stdout",
          "text": "The number is probably a 5\n"
        },
        {
          "output_type": "display_data",
          "data": {
            "text/plain": "<Figure size 432x288 with 1 Axes>",
            "image/png": "[encoded data removed]"
          },
          "metadata": {
            "needs_background": "light"
          }
        },
        {
          "output_type": "stream",
          "name": "stdout",
          "text": "The number is probably a 6\n"
        },
        {
          "output_type": "display_data",
          "data": {
            "text/plain": "<Figure size 432x288 with 1 Axes>",
            "image/png": "[encoded data removed]"
          },
          "metadata": {
            "needs_background": "light"
          }
        },
        {
          "output_type": "stream",
          "name": "stdout",
          "text": "The number is probably a 7\n"
        },
        {
          "output_type": "display_data",
          "data": {
            "text/plain": "<Figure size 432x288 with 1 Axes>",
            "image/png": "[encoded data removed]"
          },
          "metadata": {
            "needs_background": "light"
          }
        },
        {
          "output_type": "stream",
          "name": "stdout",
          "text": "The number is probably a 8\n"
        },
        {
          "output_type": "display_data",
          "data": {
            "text/plain": "<Figure size 432x288 with 1 Axes>",
            "image/png": "[encoded data removed]"
          },
          "metadata": {
            "needs_background": "light"
          }
        },
        {
          "output_type": "stream",
          "name": "stdout",
          "text": "The number is probably a 1\n"
        },
        {
          "output_type": "display_data",
          "data": {
            "text/plain": "<Figure size 432x288 with 1 Axes>",
            "image/png": "[encoded data removed]"
          },
          "metadata": {
            "needs_background": "light"
          }
        },
        {
          "output_type": "stream",
          "name": "stdout",
          "text": "The number is probably a 0\n"
        },
        {
          "output_type": "display_data",
          "data": {
            "text/plain": "<Figure size 432x288 with 1 Axes>",
            "image/png": "[encoded data removed]"
          },
          "metadata": {
            "needs_background": "light"
          }
        }
      ],
      "execution_count": 12,
      "metadata": {
        "gather": {
          "logged": 1715093825608
        }
      },
      "id": "c380e635"
    },
    {
      "cell_type": "code",
      "source": [],
      "outputs": [],
      "execution_count": null,
      "metadata": {
        "jupyter": {
          "source_hidden": false,
          "outputs_hidden": false
        },
        "nteract": {
          "transient": {
            "deleting": false
          }
        }
      },
      "id": "b81811e8-7af2-4c66-b233-bb7ce5d789f4"
    }
  ],
  "metadata": {
    "kernelspec": {
      "name": "synapse_pyspark",
      "language": "Python",
      "display_name": "Synapse PySpark"
    },
    "language_info": {
      "name": "python",
      "version": "3.8.0",
      "mimetype": "text/x-python",
      "file_extension": ".py",
      "pygments_lexer": "ipython",
      "codemirror_mode": "ipython",
      "nbconvert_exporter": "python"
    },
    "microsoft": {
      "ms_spell_check": {
        "ms_spell_check_language": "en"
      },
      "host": {
        "AzureML": {
          "notebookHasBeenCompleted": true
        }
      }
    },
    "kernel_info": {
      "name": "synapse_pyspark"
    },
    "nteract": {
      "version": "nteract-front-end@1.0.0"
    }
  },
  "nbformat": 4,
  "nbformat_minor": 5
}